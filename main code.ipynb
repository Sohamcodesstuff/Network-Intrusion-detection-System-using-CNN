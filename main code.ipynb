{
  "nbformat": 4,
  "nbformat_minor": 0,
  "metadata": {
    "colab": {
      "name": "Untitled0.ipynb",
      "provenance": []
    },
    "kernelspec": {
      "name": "python3",
      "display_name": "Python 3"
    },
    "language_info": {
      "name": "python"
    }
  },
  "cells": [
    {
      "cell_type": "markdown",
      "source": [
        "Creating the model:-"
      ],
      "metadata": {
        "id": "0YIeWeE6JllO"
      }
    },
    {
      "cell_type": "code",
      "metadata": {
        "id": "I3albMDCmGLa",
        "colab": {
          "base_uri": "https://localhost:8080/"
        },
        "outputId": "44d6797e-86f3-44cc-b002-94ce09c15427"
      },
      "source": [
        "from numpy import loadtxt\n",
        "from keras.models import Sequential\n",
        "from keras.layers import Dense\n",
        "# load the dataset\n",
        "dataset = loadtxt('/content/data.csv', delimiter=',')\n",
        "# split into input (X) and output (y) variables\n",
        "X = dataset[:,0:42]\n",
        "y = dataset[:,42]\n",
        "# define the keras model\n",
        "model = Sequential()\n",
        "model.add(Dense(64, input_dim=42, activation='relu'))\n",
        "model.add(Dense(32, activation='relu'))\n",
        "model.add(Dense(16, activation='relu'))\n",
        "model.add(Dense(8, activation='relu'))\n",
        "model.add(Dense(4, activation='relu'))\n",
        "model.add(Dense(2, activation='relu'))\n",
        "model.add(Dense(1, activation='relu'))\n",
        "model.add(Dense(1, activation='sigmoid'))\n",
        "print(model.summary())\n",
        "# # compile the keras model\n",
        "# model.compile(loss='binary_crossentropy', optimizer='adam', metrics=['accuracy'])\n",
        "# # fit the keras model on the dataset\n",
        "# history = model.fit(X, y, validation_split=0.33, epochs=30, batch_size=10)\n",
        "# # evaluate the keras model\n",
        "# _, accuracy = model.evaluate(X, y)\n",
        "# print('Accuracy: %.2f' % (accuracy*100))"
      ],
      "execution_count": null,
      "outputs": [
        {
          "output_type": "stream",
          "name": "stdout",
          "text": [
            "Model: \"sequential\"\n",
            "_________________________________________________________________\n",
            " Layer (type)                Output Shape              Param #   \n",
            "=================================================================\n",
            " dense (Dense)               (None, 64)                2752      \n",
            "                                                                 \n",
            " dense_1 (Dense)             (None, 32)                2080      \n",
            "                                                                 \n",
            " dense_2 (Dense)             (None, 16)                528       \n",
            "                                                                 \n",
            " dense_3 (Dense)             (None, 8)                 136       \n",
            "                                                                 \n",
            " dense_4 (Dense)             (None, 4)                 36        \n",
            "                                                                 \n",
            " dense_5 (Dense)             (None, 2)                 10        \n",
            "                                                                 \n",
            " dense_6 (Dense)             (None, 1)                 3         \n",
            "                                                                 \n",
            " dense_7 (Dense)             (None, 1)                 2         \n",
            "                                                                 \n",
            "=================================================================\n",
            "Total params: 5,547\n",
            "Trainable params: 5,547\n",
            "Non-trainable params: 0\n",
            "_________________________________________________________________\n",
            "None\n"
          ]
        }
      ]
    },
    {
      "cell_type": "markdown",
      "source": [
        "Fitting the model:-"
      ],
      "metadata": {
        "id": "jEQzbzLjJqPk"
      }
    },
    {
      "cell_type": "code",
      "source": [
        "# compile the keras model\n",
        "model.compile(loss='binary_crossentropy', optimizer='adam', metrics=['accuracy'])\n",
        "# fit the keras model on the dataset\n",
        "history = model.fit(X, y, validation_split=0.33, epochs=30, batch_size=10)\n",
        "# evaluate the keras model\n",
        "_, accuracy = model.evaluate(X, y)\n",
        "# print('Accuracy: %.2f' % (accuracy*100))"
      ],
      "metadata": {
        "colab": {
          "base_uri": "https://localhost:8080/"
        },
        "id": "_CkJ19Ja13gV",
        "outputId": "35abbe71-e34e-4397-b261-d36e6f31dd37"
      },
      "execution_count": null,
      "outputs": [
        {
          "output_type": "stream",
          "name": "stdout",
          "text": [
            "Epoch 1/30\n",
            "670/670 [==============================] - 3s 4ms/step - loss: 2890.1799 - accuracy: 0.9482 - val_loss: 0.4960 - val_accuracy: 0.9012\n",
            "Epoch 2/30\n",
            "670/670 [==============================] - 2s 3ms/step - loss: 0.3999 - accuracy: 0.9482 - val_loss: 0.3963 - val_accuracy: 0.9012\n",
            "Epoch 3/30\n",
            "670/670 [==============================] - 2s 3ms/step - loss: 0.3083 - accuracy: 0.9482 - val_loss: 0.3492 - val_accuracy: 0.9012\n",
            "Epoch 4/30\n",
            "670/670 [==============================] - 2s 3ms/step - loss: 0.2588 - accuracy: 0.9482 - val_loss: 0.3292 - val_accuracy: 0.9012\n",
            "Epoch 5/30\n",
            "670/670 [==============================] - 2s 3ms/step - loss: 0.2319 - accuracy: 0.9482 - val_loss: 0.3228 - val_accuracy: 0.9012\n",
            "Epoch 6/30\n",
            "670/670 [==============================] - 2s 3ms/step - loss: 0.2174 - accuracy: 0.9482 - val_loss: 0.3232 - val_accuracy: 0.9012\n",
            "Epoch 7/30\n",
            "670/670 [==============================] - 2s 3ms/step - loss: 0.2101 - accuracy: 0.9482 - val_loss: 0.3264 - val_accuracy: 0.9012\n",
            "Epoch 8/30\n",
            "670/670 [==============================] - 2s 3ms/step - loss: 0.2065 - accuracy: 0.9482 - val_loss: 0.3302 - val_accuracy: 0.9012\n",
            "Epoch 9/30\n",
            "670/670 [==============================] - 2s 3ms/step - loss: 0.2049 - accuracy: 0.9482 - val_loss: 0.3336 - val_accuracy: 0.9012\n",
            "Epoch 10/30\n",
            "670/670 [==============================] - 2s 3ms/step - loss: 0.2042 - accuracy: 0.9482 - val_loss: 0.3359 - val_accuracy: 0.9012\n",
            "Epoch 11/30\n",
            "670/670 [==============================] - 2s 3ms/step - loss: 0.2040 - accuracy: 0.9482 - val_loss: 0.3374 - val_accuracy: 0.9012\n",
            "Epoch 12/30\n",
            "670/670 [==============================] - 2s 3ms/step - loss: 0.2039 - accuracy: 0.9482 - val_loss: 0.3386 - val_accuracy: 0.9012\n",
            "Epoch 13/30\n",
            "670/670 [==============================] - 2s 3ms/step - loss: 0.2038 - accuracy: 0.9482 - val_loss: 0.3392 - val_accuracy: 0.9012\n",
            "Epoch 14/30\n",
            "670/670 [==============================] - 2s 3ms/step - loss: 0.2038 - accuracy: 0.9482 - val_loss: 0.3396 - val_accuracy: 0.9012\n",
            "Epoch 15/30\n",
            "670/670 [==============================] - 2s 3ms/step - loss: 0.2038 - accuracy: 0.9482 - val_loss: 0.3398 - val_accuracy: 0.9012\n",
            "Epoch 16/30\n",
            "670/670 [==============================] - 2s 3ms/step - loss: 0.2038 - accuracy: 0.9482 - val_loss: 0.3402 - val_accuracy: 0.9012\n",
            "Epoch 17/30\n",
            "670/670 [==============================] - 2s 3ms/step - loss: 0.2038 - accuracy: 0.9482 - val_loss: 0.3404 - val_accuracy: 0.9012\n",
            "Epoch 18/30\n",
            "670/670 [==============================] - 2s 3ms/step - loss: 0.2038 - accuracy: 0.9482 - val_loss: 0.3403 - val_accuracy: 0.9012\n",
            "Epoch 19/30\n",
            "670/670 [==============================] - 2s 3ms/step - loss: 0.2038 - accuracy: 0.9482 - val_loss: 0.3402 - val_accuracy: 0.9012\n",
            "Epoch 20/30\n",
            "670/670 [==============================] - 2s 3ms/step - loss: 0.2038 - accuracy: 0.9482 - val_loss: 0.3403 - val_accuracy: 0.9012\n",
            "Epoch 21/30\n",
            "670/670 [==============================] - 2s 3ms/step - loss: 0.2038 - accuracy: 0.9482 - val_loss: 0.3403 - val_accuracy: 0.9012\n",
            "Epoch 22/30\n",
            "670/670 [==============================] - 2s 3ms/step - loss: 0.2038 - accuracy: 0.9482 - val_loss: 0.3402 - val_accuracy: 0.9012\n",
            "Epoch 23/30\n",
            "670/670 [==============================] - 2s 3ms/step - loss: 0.2038 - accuracy: 0.9482 - val_loss: 0.3404 - val_accuracy: 0.9012\n",
            "Epoch 24/30\n",
            "670/670 [==============================] - 2s 3ms/step - loss: 0.2038 - accuracy: 0.9482 - val_loss: 0.3406 - val_accuracy: 0.9012\n",
            "Epoch 25/30\n",
            "670/670 [==============================] - 2s 4ms/step - loss: 0.2038 - accuracy: 0.9482 - val_loss: 0.3408 - val_accuracy: 0.9012\n",
            "Epoch 26/30\n",
            "670/670 [==============================] - 2s 3ms/step - loss: 0.2038 - accuracy: 0.9482 - val_loss: 0.3405 - val_accuracy: 0.9012\n",
            "Epoch 27/30\n",
            "670/670 [==============================] - 2s 3ms/step - loss: 0.2038 - accuracy: 0.9482 - val_loss: 0.3406 - val_accuracy: 0.9012\n",
            "Epoch 28/30\n",
            "670/670 [==============================] - 2s 3ms/step - loss: 0.2038 - accuracy: 0.9482 - val_loss: 0.3405 - val_accuracy: 0.9012\n",
            "Epoch 29/30\n",
            "670/670 [==============================] - 2s 3ms/step - loss: 0.2038 - accuracy: 0.9482 - val_loss: 0.3408 - val_accuracy: 0.9012\n",
            "Epoch 30/30\n",
            "670/670 [==============================] - 2s 3ms/step - loss: 0.2038 - accuracy: 0.9482 - val_loss: 0.3406 - val_accuracy: 0.9012\n",
            "313/313 [==============================] - 1s 2ms/step - loss: 0.2489 - accuracy: 0.9327\n"
          ]
        }
      ]
    },
    {
      "cell_type": "markdown",
      "source": [
        "Predicting the category of 5 test samples:-"
      ],
      "metadata": {
        "id": "VndRnTuvJvKW"
      }
    },
    {
      "cell_type": "code",
      "source": [
        "predictions = (model.predict(X) > 0.5).astype(int)\n",
        "# summarize the first 5 cases\n",
        "for i in range(20):\n",
        "\tprint('%s => %d (expected %d)' % (X[i].tolist(), predictions[i], y[i]))"
      ],
      "metadata": {
        "colab": {
          "base_uri": "https://localhost:8080/"
        },
        "id": "XIIgn1dMIhWG",
        "outputId": "c04874c0-93db-4e9d-dc84-38c93b15c560"
      },
      "execution_count": null,
      "outputs": [
        {
          "output_type": "stream",
          "name": "stdout",
          "text": [
            "[1390.0, 53.0, 0.001055, 132.0, 164.0, 31.0, 29.0, 0.0, 0.0, 500473.9375, 621800.9375, 2.0, 2.0, 0.0, 0.0, 0.0, 0.0, 66.0, 82.0, 0.0, 0.0, 0.0, 0.0, 1421927414.0, 1421927414.0, 0.017, 0.013, 0.0, 0.0, 0.0, 0.0, 0.0, 0.0, 0.0, 0.0, 3.0, 7.0, 1.0, 3.0, 1.0, 1.0, 1.0] => 0 (expected 0)\n",
            "[33661.0, 1024.0, 0.036133, 528.0, 304.0, 31.0, 29.0, 0.0, 0.0, 87676.08594, 50480.17188, 4.0, 4.0, 0.0, 0.0, 0.0, 0.0, 132.0, 76.0, 0.0, 0.0, 9.89101, 10.682733, 1421927414.0, 1421927414.0, 7.005, 7.564333, 0.0, 0.0, 0.0, 0.0, 0.0, 0.0, 0.0, 0.0, 2.0, 4.0, 2.0, 3.0, 1.0, 1.0, 2.0] => 0 (expected 0)\n",
            "[1464.0, 53.0, 0.001119, 146.0, 178.0, 31.0, 29.0, 0.0, 0.0, 521894.5313, 636282.375, 2.0, 2.0, 0.0, 0.0, 0.0, 0.0, 73.0, 89.0, 0.0, 0.0, 0.0, 0.0, 1421927414.0, 1421927414.0, 0.017, 0.013, 0.0, 0.0, 0.0, 0.0, 0.0, 0.0, 0.0, 0.0, 12.0, 8.0, 1.0, 2.0, 2.0, 1.0, 1.0] => 0 (expected 0)\n",
            "[3593.0, 53.0, 0.001209, 132.0, 164.0, 31.0, 29.0, 0.0, 0.0, 436724.5625, 542597.1875, 2.0, 2.0, 0.0, 0.0, 0.0, 0.0, 66.0, 82.0, 0.0, 0.0, 0.0, 0.0, 1421927414.0, 1421927414.0, 0.043, 0.014, 0.0, 0.0, 0.0, 0.0, 0.0, 0.0, 0.0, 0.0, 6.0, 9.0, 1.0, 1.0, 1.0, 1.0, 1.0] => 0 (expected 0)\n",
            "[49664.0, 53.0, 0.001169, 146.0, 178.0, 31.0, 29.0, 0.0, 0.0, 499572.25, 609067.5625, 2.0, 2.0, 0.0, 0.0, 0.0, 0.0, 73.0, 89.0, 0.0, 0.0, 0.0, 0.0, 1421927414.0, 1421927414.0, 0.005, 0.003, 0.0, 0.0, 0.0, 0.0, 0.0, 0.0, 0.0, 0.0, 7.0, 9.0, 1.0, 1.0, 1.0, 1.0, 1.0] => 0 (expected 0)\n",
            "[32119.0, 111.0, 0.078339, 568.0, 312.0, 31.0, 29.0, 0.0, 0.0, 43503.23438, 23896.14258, 4.0, 4.0, 0.0, 0.0, 0.0, 0.0, 142.0, 78.0, 0.0, 0.0, 29.682221, 34.37034, 1421927414.0, 1421927414.0, 21.003, 24.315, 0.0, 0.0, 0.0, 0.0, 0.0, 0.0, 0.0, 0.0, 2.0, 4.0, 2.0, 3.0, 1.0, 1.0, 2.0] => 0 (expected 0)\n",
            "[2142.0, 53.0, 0.001134, 132.0, 164.0, 31.0, 29.0, 0.0, 0.0, 465608.4688, 578483.25, 2.0, 2.0, 0.0, 0.0, 0.0, 0.0, 66.0, 82.0, 0.0, 0.0, 0.0, 0.0, 1421927414.0, 1421927414.0, 0.017, 0.013, 0.0, 0.0, 0.0, 0.0, 0.0, 0.0, 0.0, 0.0, 12.0, 7.0, 1.0, 2.0, 2.0, 1.0, 1.0] => 0 (expected 0)\n",
            "[0.0, 0.0, 0.0, 46.0, 0.0, 0.0, 0.0, 0.0, 0.0, 0.0, 0.0, 1.0, 0.0, 0.0, 0.0, 0.0, 0.0, 46.0, 0.0, 0.0, 0.0, 0.0, 0.0, 1421927415.0, 1421927415.0, 0.0, 0.0, 0.0, 0.0, 0.0, 1.0, 2.0, 0.0, 0.0, 0.0, 2.0, 2.0, 2.0, 2.0, 2.0, 2.0, 2.0] => 0 (expected 0)\n",
            "[40726.0, 53.0, 0.001126, 146.0, 178.0, 31.0, 29.0, 0.0, 0.0, 518650.0938, 632326.8125, 2.0, 2.0, 0.0, 0.0, 0.0, 0.0, 73.0, 89.0, 0.0, 0.0, 0.0, 0.0, 1421927415.0, 1421927415.0, 0.018, 0.013, 0.0, 0.0, 0.0, 0.0, 0.0, 0.0, 0.0, 0.0, 6.0, 7.0, 3.0, 1.0, 1.0, 1.0, 1.0] => 0 (expected 0)\n",
            "[12660.0, 53.0, 0.001167, 132.0, 164.0, 31.0, 29.0, 0.0, 0.0, 452442.1563, 562125.0625, 2.0, 2.0, 0.0, 0.0, 0.0, 0.0, 66.0, 82.0, 0.0, 0.0, 0.0, 0.0, 1421927415.0, 1421927415.0, 0.018, 0.013, 0.0, 0.0, 0.0, 0.0, 0.0, 0.0, 0.0, 0.0, 6.0, 7.0, 2.0, 1.0, 1.0, 1.0, 1.0] => 0 (expected 0)\n",
            "[0.0, 0.0, 0.0, 46.0, 0.0, 0.0, 0.0, 0.0, 0.0, 0.0, 0.0, 1.0, 0.0, 0.0, 0.0, 0.0, 0.0, 46.0, 0.0, 0.0, 0.0, 0.0, 0.0, 1421927415.0, 1421927415.0, 0.0, 0.0, 0.0, 0.0, 0.0, 1.0, 2.0, 0.0, 0.0, 0.0, 2.0, 2.0, 2.0, 2.0, 2.0, 2.0, 2.0] => 0 (expected 0)\n",
            "[0.0, 0.0, 0.0, 46.0, 0.0, 0.0, 0.0, 0.0, 0.0, 0.0, 0.0, 1.0, 0.0, 0.0, 0.0, 0.0, 0.0, 46.0, 0.0, 0.0, 0.0, 0.0, 0.0, 1421927415.0, 1421927415.0, 0.0, 0.0, 0.0, 0.0, 0.0, 1.0, 2.0, 0.0, 0.0, 0.0, 2.0, 2.0, 2.0, 2.0, 2.0, 2.0, 2.0] => 0 (expected 0)\n",
            "[0.0, 0.0, 0.0, 46.0, 0.0, 0.0, 0.0, 0.0, 0.0, 0.0, 0.0, 1.0, 0.0, 0.0, 0.0, 0.0, 0.0, 46.0, 0.0, 0.0, 0.0, 0.0, 0.0, 1421927415.0, 1421927415.0, 0.0, 0.0, 0.0, 0.0, 0.0, 1.0, 2.0, 0.0, 0.0, 0.0, 2.0, 2.0, 2.0, 2.0, 2.0, 2.0, 2.0] => 0 (expected 0)\n",
            "[48847.0, 53.0, 0.001093, 132.0, 164.0, 31.0, 29.0, 0.0, 0.0, 483074.0938, 600182.9375, 2.0, 2.0, 0.0, 0.0, 0.0, 0.0, 66.0, 82.0, 0.0, 0.0, 0.0, 0.0, 1421927415.0, 1421927415.0, 0.018, 0.013, 0.0, 0.0, 0.0, 0.0, 0.0, 0.0, 0.0, 0.0, 6.0, 9.0, 2.0, 5.0, 1.0, 1.0, 1.0] => 0 (expected 0)\n",
            "[24266.0, 41049.0, 0.001851, 528.0, 304.0, 31.0, 29.0, 0.0, 0.0, 1711507.25, 985413.3125, 4.0, 4.0, 0.0, 0.0, 0.0, 0.0, 132.0, 76.0, 0.0, 0.0, 0.656903, 0.328339, 1421927415.0, 1421927415.0, 0.471, 0.237667, 0.0, 0.0, 0.0, 0.0, 0.0, 0.0, 0.0, 0.0, 8.0, 4.0, 2.0, 5.0, 1.0, 1.0, 2.0] => 0 (expected 0)\n",
            "[10393.0, 44307.0, 0.001749, 528.0, 304.0, 31.0, 29.0, 0.0, 0.0, 1811320.75, 1042881.625, 4.0, 4.0, 0.0, 0.0, 0.0, 0.0, 132.0, 76.0, 0.0, 0.0, 0.640403, 0.280968, 1421927415.0, 1421927415.0, 0.458333, 0.203667, 0.0, 0.0, 0.0, 0.0, 0.0, 0.0, 0.0, 0.0, 8.0, 2.0, 3.0, 5.0, 1.0, 1.0, 2.0] => 0 (expected 0)\n",
            "[62539.0, 53.0, 0.001128, 132.0, 164.0, 31.0, 29.0, 0.0, 0.0, 468085.125, 581560.3125, 2.0, 2.0, 0.0, 0.0, 0.0, 0.0, 66.0, 82.0, 0.0, 0.0, 0.0, 0.0, 1421927415.0, 1421927415.0, 0.017, 0.015, 0.0, 0.0, 0.0, 0.0, 0.0, 0.0, 0.0, 0.0, 7.0, 7.0, 2.0, 1.0, 1.0, 1.0, 1.0] => 0 (expected 0)\n",
            "[21270.0, 111.0, 0.005153, 568.0, 312.0, 31.0, 29.0, 0.0, 0.0, 661362.3125, 363283.5313, 4.0, 4.0, 0.0, 0.0, 0.0, 0.0, 142.0, 78.0, 0.0, 0.0, 1.890104, 1.610554, 1421927415.0, 1421927415.0, 1.348, 1.149333, 0.0, 0.0, 0.0, 0.0, 0.0, 0.0, 0.0, 0.0, 8.0, 4.0, 2.0, 5.0, 2.0, 1.0, 2.0] => 0 (expected 0)\n",
            "[8989.0, 111.0, 0.004898, 568.0, 312.0, 31.0, 29.0, 0.0, 0.0, 695794.1875, 382196.8125, 4.0, 4.0, 0.0, 0.0, 0.0, 0.0, 142.0, 78.0, 0.0, 0.0, 1.780739, 1.549507, 1421927415.0, 1421927415.0, 1.269667, 1.103667, 0.0, 0.0, 0.0, 0.0, 0.0, 0.0, 0.0, 0.0, 8.0, 2.0, 3.0, 5.0, 2.0, 1.0, 2.0] => 0 (expected 0)\n",
            "[49346.0, 53.0, 0.001111, 132.0, 164.0, 31.0, 29.0, 0.0, 0.0, 475247.5313, 590459.0625, 2.0, 2.0, 0.0, 0.0, 0.0, 0.0, 66.0, 82.0, 0.0, 0.0, 0.0, 0.0, 1421927415.0, 1421927415.0, 0.018, 0.013, 0.0, 0.0, 0.0, 0.0, 0.0, 0.0, 0.0, 0.0, 5.0, 9.0, 2.0, 1.0, 1.0, 1.0, 1.0] => 0 (expected 0)\n"
          ]
        }
      ]
    },
    {
      "cell_type": "markdown",
      "source": [
        "Plotting some graphs for model evaluation:-"
      ],
      "metadata": {
        "id": "EYZkv2DqJ0bC"
      }
    },
    {
      "cell_type": "code",
      "source": [
        "import matplotlib.pyplot as plt\n",
        "plt.plot(history.history['accuracy'])\n",
        "plt.title('model accuracy')\n",
        "plt.ylabel('accuracy')\n",
        "plt.xlabel('epoch')\n",
        "plt.legend(['train'], loc = 'upper left')\n",
        "plt.show()\n",
        "\n",
        "plt.plot(history.history['loss'])\n",
        "plt.title('model loss')\n",
        "plt.ylabel('loss')\n",
        "plt.xlabel('epoch')\n",
        "plt.legend(['train'], loc = 'upper left')\n",
        "plt.show()\n",
        "\n",
        "plt.plot(history.history['val_loss'])\n",
        "plt.title('validation loss')\n",
        "plt.ylabel('val_loss')\n",
        "plt.xlabel('epoch')\n",
        "plt.legend(['train'], loc = 'upper left')\n",
        "plt.show()"
      ],
      "metadata": {
        "colab": {
          "base_uri": "https://localhost:8080/",
          "height": 851
        },
        "id": "ZHelaPQVrE72",
        "outputId": "1cdc6899-f860-4ea7-9e70-38a2eed3199a"
      },
      "execution_count": null,
      "outputs": [
        {
          "output_type": "display_data",
          "data": {
            "text/plain": [
              "<Figure size 432x288 with 1 Axes>"
            ],
            "image/png": "[encoded data removed]"
          },
          "metadata": {
            "needs_background": "light"
          }
        },
        {
          "output_type": "display_data",
          "data": {
            "text/plain": [
              "<Figure size 432x288 with 1 Axes>"
            ],
            "image/png": "[encoded data removed]"
          },
          "metadata": {
            "needs_background": "light"
          }
        },
        {
          "output_type": "display_data",
          "data": {
            "text/plain": [
              "<Figure size 432x288 with 1 Axes>"
            ],
            "image/png": "[encoded data removed]"
          },
          "metadata": {
            "needs_background": "light"
          }
        }
      ]
    }
  ]
}